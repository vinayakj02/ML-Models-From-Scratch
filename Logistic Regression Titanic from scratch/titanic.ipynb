{
  "nbformat": 4,
  "nbformat_minor": 0,
  "metadata": {
    "colab": {
      "name": "ISTE_titanic",
      "provenance": []
    },
    "kernelspec": {
      "name": "python3",
      "display_name": "Python 3"
    },
    "language_info": {
      "name": "python"
    }
  },
  "cells": [
    {
      "cell_type": "code",
      "metadata": {
        "colab": {
          "base_uri": "https://localhost:8080/",
          "height": 291
        },
        "id": "GLVa9oZf3H26",
        "outputId": "a6d7d877-0d24-4e10-ead6-88b873d8f4d9"
      },
      "source": [
        "import pandas as pd \n",
        "import numpy as np \n",
        "\n",
        "df = pd.read_csv('/content/Titanic_ISTE.csv',index_col = 'PassengerId')\n",
        "df.head(3)"
      ],
      "execution_count": 1,
      "outputs": [
        {
          "output_type": "execute_result",
          "data": {
            "text/html": [
              "<div>\n",
              "<style scoped>\n",
              "    .dataframe tbody tr th:only-of-type {\n",
              "        vertical-align: middle;\n",
              "    }\n",
              "\n",
              "    .dataframe tbody tr th {\n",
              "        vertical-align: top;\n",
              "    }\n",
              "\n",
              "    .dataframe thead th {\n",
              "        text-align: right;\n",
              "    }\n",
              "</style>\n",
              "<table border=\"1\" class=\"dataframe\">\n",
              "  <thead>\n",
              "    <tr style=\"text-align: right;\">\n",
              "      <th></th>\n",
              "      <th>Survived</th>\n",
              "      <th>Pclass</th>\n",
              "      <th>Name</th>\n",
              "      <th>Sex</th>\n",
              "      <th>Age</th>\n",
              "      <th>SibSp</th>\n",
              "      <th>Parch</th>\n",
              "      <th>Ticket</th>\n",
              "      <th>Fare</th>\n",
              "      <th>Cabin</th>\n",
              "      <th>Embarked</th>\n",
              "      <th>Unnamed: 12</th>\n",
              "      <th>Unnamed: 13</th>\n",
              "      <th>Unnamed: 14</th>\n",
              "      <th>Unnamed: 15</th>\n",
              "      <th>Unnamed: 16</th>\n",
              "      <th>Unnamed: 17</th>\n",
              "    </tr>\n",
              "    <tr>\n",
              "      <th>PassengerId</th>\n",
              "      <th></th>\n",
              "      <th></th>\n",
              "      <th></th>\n",
              "      <th></th>\n",
              "      <th></th>\n",
              "      <th></th>\n",
              "      <th></th>\n",
              "      <th></th>\n",
              "      <th></th>\n",
              "      <th></th>\n",
              "      <th></th>\n",
              "      <th></th>\n",
              "      <th></th>\n",
              "      <th></th>\n",
              "      <th></th>\n",
              "      <th></th>\n",
              "      <th></th>\n",
              "    </tr>\n",
              "  </thead>\n",
              "  <tbody>\n",
              "    <tr>\n",
              "      <th>1</th>\n",
              "      <td>0.0</td>\n",
              "      <td>3.0</td>\n",
              "      <td>Braund, Mr. Owen Harris</td>\n",
              "      <td>male</td>\n",
              "      <td>22.0</td>\n",
              "      <td>1.0</td>\n",
              "      <td>0.0</td>\n",
              "      <td>A/5 21171</td>\n",
              "      <td>7.2500</td>\n",
              "      <td>NaN</td>\n",
              "      <td>S</td>\n",
              "      <td>NaN</td>\n",
              "      <td>NaN</td>\n",
              "      <td>NaN</td>\n",
              "      <td>NaN</td>\n",
              "      <td>NaN</td>\n",
              "      <td>NaN</td>\n",
              "    </tr>\n",
              "    <tr>\n",
              "      <th>2</th>\n",
              "      <td>1.0</td>\n",
              "      <td>1.0</td>\n",
              "      <td>Cumings, Mrs. John Bradley (Florence Briggs Th...</td>\n",
              "      <td>female</td>\n",
              "      <td>38.0</td>\n",
              "      <td>1.0</td>\n",
              "      <td>0.0</td>\n",
              "      <td>PC 17599</td>\n",
              "      <td>71.2833</td>\n",
              "      <td>C85</td>\n",
              "      <td>C</td>\n",
              "      <td>NaN</td>\n",
              "      <td>NaN</td>\n",
              "      <td>NaN</td>\n",
              "      <td>NaN</td>\n",
              "      <td>NaN</td>\n",
              "      <td>NaN</td>\n",
              "    </tr>\n",
              "    <tr>\n",
              "      <th>3</th>\n",
              "      <td>1.0</td>\n",
              "      <td>3.0</td>\n",
              "      <td>Heikkinen, Miss. Laina</td>\n",
              "      <td>female</td>\n",
              "      <td>26.0</td>\n",
              "      <td>0.0</td>\n",
              "      <td>0.0</td>\n",
              "      <td>STON/O2. 3101282</td>\n",
              "      <td>7.9250</td>\n",
              "      <td>NaN</td>\n",
              "      <td>S</td>\n",
              "      <td>NaN</td>\n",
              "      <td>NaN</td>\n",
              "      <td>NaN</td>\n",
              "      <td>NaN</td>\n",
              "      <td>NaN</td>\n",
              "      <td>NaN</td>\n",
              "    </tr>\n",
              "  </tbody>\n",
              "</table>\n",
              "</div>"
            ],
            "text/plain": [
              "             Survived  Pclass  ... Unnamed: 16 Unnamed: 17\n",
              "PassengerId                    ...                        \n",
              "1                 0.0     3.0  ...         NaN         NaN\n",
              "2                 1.0     1.0  ...         NaN         NaN\n",
              "3                 1.0     3.0  ...         NaN         NaN\n",
              "\n",
              "[3 rows x 17 columns]"
            ]
          },
          "metadata": {},
          "execution_count": 1
        }
      ]
    },
    {
      "cell_type": "code",
      "metadata": {
        "colab": {
          "base_uri": "https://localhost:8080/"
        },
        "id": "ui1UgHee3e0P",
        "outputId": "200b896a-489b-4adc-bfc8-59a9fde0547a"
      },
      "source": [
        "df.info()"
      ],
      "execution_count": 2,
      "outputs": [
        {
          "output_type": "stream",
          "name": "stdout",
          "text": [
            "<class 'pandas.core.frame.DataFrame'>\n",
            "Int64Index: 891 entries, 1 to 891\n",
            "Data columns (total 17 columns):\n",
            " #   Column       Non-Null Count  Dtype  \n",
            "---  ------       --------------  -----  \n",
            " 0   Survived     889 non-null    float64\n",
            " 1   Pclass       890 non-null    float64\n",
            " 2   Name         891 non-null    object \n",
            " 3   Sex          881 non-null    object \n",
            " 4   Age          712 non-null    float64\n",
            " 5   SibSp        890 non-null    float64\n",
            " 6   Parch        889 non-null    float64\n",
            " 7   Ticket       891 non-null    object \n",
            " 8   Fare         891 non-null    float64\n",
            " 9   Cabin        204 non-null    object \n",
            " 10  Embarked     889 non-null    object \n",
            " 11  Unnamed: 12  0 non-null      float64\n",
            " 12  Unnamed: 13  0 non-null      float64\n",
            " 13  Unnamed: 14  0 non-null      float64\n",
            " 14  Unnamed: 15  0 non-null      float64\n",
            " 15  Unnamed: 16  0 non-null      float64\n",
            " 16  Unnamed: 17  1 non-null      float64\n",
            "dtypes: float64(12), object(5)\n",
            "memory usage: 125.3+ KB\n"
          ]
        }
      ]
    },
    {
      "cell_type": "code",
      "metadata": {
        "id": "9Vi21D403oBV"
      },
      "source": [
        "df = df.drop(columns=['Unnamed: 12','Unnamed: 13','Unnamed: 14','Unnamed: 15','Unnamed: 16','Unnamed: 17','Cabin','Ticket','Name'])"
      ],
      "execution_count": 3,
      "outputs": []
    },
    {
      "cell_type": "code",
      "metadata": {
        "colab": {
          "base_uri": "https://localhost:8080/",
          "height": 172
        },
        "id": "zJhZmIEU4JXt",
        "outputId": "dfe395e9-fa4f-4ba8-d104-1866ba473c2b"
      },
      "source": [
        "df.head(3)"
      ],
      "execution_count": 4,
      "outputs": [
        {
          "output_type": "execute_result",
          "data": {
            "text/html": [
              "<div>\n",
              "<style scoped>\n",
              "    .dataframe tbody tr th:only-of-type {\n",
              "        vertical-align: middle;\n",
              "    }\n",
              "\n",
              "    .dataframe tbody tr th {\n",
              "        vertical-align: top;\n",
              "    }\n",
              "\n",
              "    .dataframe thead th {\n",
              "        text-align: right;\n",
              "    }\n",
              "</style>\n",
              "<table border=\"1\" class=\"dataframe\">\n",
              "  <thead>\n",
              "    <tr style=\"text-align: right;\">\n",
              "      <th></th>\n",
              "      <th>Survived</th>\n",
              "      <th>Pclass</th>\n",
              "      <th>Sex</th>\n",
              "      <th>Age</th>\n",
              "      <th>SibSp</th>\n",
              "      <th>Parch</th>\n",
              "      <th>Fare</th>\n",
              "      <th>Embarked</th>\n",
              "    </tr>\n",
              "    <tr>\n",
              "      <th>PassengerId</th>\n",
              "      <th></th>\n",
              "      <th></th>\n",
              "      <th></th>\n",
              "      <th></th>\n",
              "      <th></th>\n",
              "      <th></th>\n",
              "      <th></th>\n",
              "      <th></th>\n",
              "    </tr>\n",
              "  </thead>\n",
              "  <tbody>\n",
              "    <tr>\n",
              "      <th>1</th>\n",
              "      <td>0.0</td>\n",
              "      <td>3.0</td>\n",
              "      <td>male</td>\n",
              "      <td>22.0</td>\n",
              "      <td>1.0</td>\n",
              "      <td>0.0</td>\n",
              "      <td>7.2500</td>\n",
              "      <td>S</td>\n",
              "    </tr>\n",
              "    <tr>\n",
              "      <th>2</th>\n",
              "      <td>1.0</td>\n",
              "      <td>1.0</td>\n",
              "      <td>female</td>\n",
              "      <td>38.0</td>\n",
              "      <td>1.0</td>\n",
              "      <td>0.0</td>\n",
              "      <td>71.2833</td>\n",
              "      <td>C</td>\n",
              "    </tr>\n",
              "    <tr>\n",
              "      <th>3</th>\n",
              "      <td>1.0</td>\n",
              "      <td>3.0</td>\n",
              "      <td>female</td>\n",
              "      <td>26.0</td>\n",
              "      <td>0.0</td>\n",
              "      <td>0.0</td>\n",
              "      <td>7.9250</td>\n",
              "      <td>S</td>\n",
              "    </tr>\n",
              "  </tbody>\n",
              "</table>\n",
              "</div>"
            ],
            "text/plain": [
              "             Survived  Pclass     Sex   Age  SibSp  Parch     Fare Embarked\n",
              "PassengerId                                                                \n",
              "1                 0.0     3.0    male  22.0    1.0    0.0   7.2500        S\n",
              "2                 1.0     1.0  female  38.0    1.0    0.0  71.2833        C\n",
              "3                 1.0     3.0  female  26.0    0.0    0.0   7.9250        S"
            ]
          },
          "metadata": {},
          "execution_count": 4
        }
      ]
    },
    {
      "cell_type": "code",
      "metadata": {
        "colab": {
          "base_uri": "https://localhost:8080/"
        },
        "id": "AMt1Z72K4TLa",
        "outputId": "9ccfe473-f485-43f5-f3ab-e494517adc30"
      },
      "source": [
        "df.info()"
      ],
      "execution_count": 5,
      "outputs": [
        {
          "output_type": "stream",
          "name": "stdout",
          "text": [
            "<class 'pandas.core.frame.DataFrame'>\n",
            "Int64Index: 891 entries, 1 to 891\n",
            "Data columns (total 8 columns):\n",
            " #   Column    Non-Null Count  Dtype  \n",
            "---  ------    --------------  -----  \n",
            " 0   Survived  889 non-null    float64\n",
            " 1   Pclass    890 non-null    float64\n",
            " 2   Sex       881 non-null    object \n",
            " 3   Age       712 non-null    float64\n",
            " 4   SibSp     890 non-null    float64\n",
            " 5   Parch     889 non-null    float64\n",
            " 6   Fare      891 non-null    float64\n",
            " 7   Embarked  889 non-null    object \n",
            "dtypes: float64(6), object(2)\n",
            "memory usage: 62.6+ KB\n"
          ]
        }
      ]
    },
    {
      "cell_type": "code",
      "metadata": {
        "id": "Bl9cQDB34670"
      },
      "source": [
        "df['Sex'].fillna('male',inplace = True)\n",
        "df['Pclass'].fillna(1,inplace= True)\n",
        "df['Age'].fillna(df['Age'].mean(),inplace= True)\n",
        "df['Survived'].fillna(0,inplace= True)\n",
        "df['SibSp'].fillna(0,inplace= True)\n",
        "df['Parch'].fillna(0,inplace= True)\n",
        "df['Embarked'].fillna('S',inplace = True)"
      ],
      "execution_count": 6,
      "outputs": []
    },
    {
      "cell_type": "code",
      "metadata": {
        "colab": {
          "base_uri": "https://localhost:8080/"
        },
        "id": "_s_Ryyd46l_S",
        "outputId": "5296418a-0118-45e9-ded0-96c9bef091ba"
      },
      "source": [
        "df.info()"
      ],
      "execution_count": 7,
      "outputs": [
        {
          "output_type": "stream",
          "name": "stdout",
          "text": [
            "<class 'pandas.core.frame.DataFrame'>\n",
            "Int64Index: 891 entries, 1 to 891\n",
            "Data columns (total 8 columns):\n",
            " #   Column    Non-Null Count  Dtype  \n",
            "---  ------    --------------  -----  \n",
            " 0   Survived  891 non-null    float64\n",
            " 1   Pclass    891 non-null    float64\n",
            " 2   Sex       891 non-null    object \n",
            " 3   Age       891 non-null    float64\n",
            " 4   SibSp     891 non-null    float64\n",
            " 5   Parch     891 non-null    float64\n",
            " 6   Fare      891 non-null    float64\n",
            " 7   Embarked  891 non-null    object \n",
            "dtypes: float64(6), object(2)\n",
            "memory usage: 62.6+ KB\n"
          ]
        }
      ]
    },
    {
      "cell_type": "code",
      "metadata": {
        "colab": {
          "base_uri": "https://localhost:8080/",
          "height": 172
        },
        "id": "MYhoIMmS6nKK",
        "outputId": "33e5cdb7-3af9-46bc-fa40-9d27d63bc7f5"
      },
      "source": [
        "df.head(3)"
      ],
      "execution_count": 8,
      "outputs": [
        {
          "output_type": "execute_result",
          "data": {
            "text/html": [
              "<div>\n",
              "<style scoped>\n",
              "    .dataframe tbody tr th:only-of-type {\n",
              "        vertical-align: middle;\n",
              "    }\n",
              "\n",
              "    .dataframe tbody tr th {\n",
              "        vertical-align: top;\n",
              "    }\n",
              "\n",
              "    .dataframe thead th {\n",
              "        text-align: right;\n",
              "    }\n",
              "</style>\n",
              "<table border=\"1\" class=\"dataframe\">\n",
              "  <thead>\n",
              "    <tr style=\"text-align: right;\">\n",
              "      <th></th>\n",
              "      <th>Survived</th>\n",
              "      <th>Pclass</th>\n",
              "      <th>Sex</th>\n",
              "      <th>Age</th>\n",
              "      <th>SibSp</th>\n",
              "      <th>Parch</th>\n",
              "      <th>Fare</th>\n",
              "      <th>Embarked</th>\n",
              "    </tr>\n",
              "    <tr>\n",
              "      <th>PassengerId</th>\n",
              "      <th></th>\n",
              "      <th></th>\n",
              "      <th></th>\n",
              "      <th></th>\n",
              "      <th></th>\n",
              "      <th></th>\n",
              "      <th></th>\n",
              "      <th></th>\n",
              "    </tr>\n",
              "  </thead>\n",
              "  <tbody>\n",
              "    <tr>\n",
              "      <th>1</th>\n",
              "      <td>0.0</td>\n",
              "      <td>3.0</td>\n",
              "      <td>male</td>\n",
              "      <td>22.0</td>\n",
              "      <td>1.0</td>\n",
              "      <td>0.0</td>\n",
              "      <td>7.2500</td>\n",
              "      <td>S</td>\n",
              "    </tr>\n",
              "    <tr>\n",
              "      <th>2</th>\n",
              "      <td>1.0</td>\n",
              "      <td>1.0</td>\n",
              "      <td>female</td>\n",
              "      <td>38.0</td>\n",
              "      <td>1.0</td>\n",
              "      <td>0.0</td>\n",
              "      <td>71.2833</td>\n",
              "      <td>C</td>\n",
              "    </tr>\n",
              "    <tr>\n",
              "      <th>3</th>\n",
              "      <td>1.0</td>\n",
              "      <td>3.0</td>\n",
              "      <td>female</td>\n",
              "      <td>26.0</td>\n",
              "      <td>0.0</td>\n",
              "      <td>0.0</td>\n",
              "      <td>7.9250</td>\n",
              "      <td>S</td>\n",
              "    </tr>\n",
              "  </tbody>\n",
              "</table>\n",
              "</div>"
            ],
            "text/plain": [
              "             Survived  Pclass     Sex   Age  SibSp  Parch     Fare Embarked\n",
              "PassengerId                                                                \n",
              "1                 0.0     3.0    male  22.0    1.0    0.0   7.2500        S\n",
              "2                 1.0     1.0  female  38.0    1.0    0.0  71.2833        C\n",
              "3                 1.0     3.0  female  26.0    0.0    0.0   7.9250        S"
            ]
          },
          "metadata": {},
          "execution_count": 8
        }
      ]
    },
    {
      "cell_type": "code",
      "metadata": {
        "colab": {
          "base_uri": "https://localhost:8080/",
          "height": 172
        },
        "id": "ZsafZKjb6oer",
        "outputId": "c02dd8c3-3c0b-40ac-89fd-7d0eaa6f1f05"
      },
      "source": [
        "d = pd.get_dummies(df['Sex']).drop(['male'],axis='columns').astype('int64')\n",
        "df = pd.concat([df,d],axis='columns').drop('Sex',axis='columns')\n",
        "\n",
        "de = pd.get_dummies(df['Embarked']).drop(['S'],axis='columns').astype('int64')\n",
        "df = pd.concat([df,de],axis='columns').drop('Embarked',axis='columns')\n",
        "\n",
        "df.head(3)"
      ],
      "execution_count": 9,
      "outputs": [
        {
          "output_type": "execute_result",
          "data": {
            "text/html": [
              "<div>\n",
              "<style scoped>\n",
              "    .dataframe tbody tr th:only-of-type {\n",
              "        vertical-align: middle;\n",
              "    }\n",
              "\n",
              "    .dataframe tbody tr th {\n",
              "        vertical-align: top;\n",
              "    }\n",
              "\n",
              "    .dataframe thead th {\n",
              "        text-align: right;\n",
              "    }\n",
              "</style>\n",
              "<table border=\"1\" class=\"dataframe\">\n",
              "  <thead>\n",
              "    <tr style=\"text-align: right;\">\n",
              "      <th></th>\n",
              "      <th>Survived</th>\n",
              "      <th>Pclass</th>\n",
              "      <th>Age</th>\n",
              "      <th>SibSp</th>\n",
              "      <th>Parch</th>\n",
              "      <th>Fare</th>\n",
              "      <th>female</th>\n",
              "      <th>C</th>\n",
              "      <th>Q</th>\n",
              "    </tr>\n",
              "    <tr>\n",
              "      <th>PassengerId</th>\n",
              "      <th></th>\n",
              "      <th></th>\n",
              "      <th></th>\n",
              "      <th></th>\n",
              "      <th></th>\n",
              "      <th></th>\n",
              "      <th></th>\n",
              "      <th></th>\n",
              "      <th></th>\n",
              "    </tr>\n",
              "  </thead>\n",
              "  <tbody>\n",
              "    <tr>\n",
              "      <th>1</th>\n",
              "      <td>0.0</td>\n",
              "      <td>3.0</td>\n",
              "      <td>22.0</td>\n",
              "      <td>1.0</td>\n",
              "      <td>0.0</td>\n",
              "      <td>7.2500</td>\n",
              "      <td>0</td>\n",
              "      <td>0</td>\n",
              "      <td>0</td>\n",
              "    </tr>\n",
              "    <tr>\n",
              "      <th>2</th>\n",
              "      <td>1.0</td>\n",
              "      <td>1.0</td>\n",
              "      <td>38.0</td>\n",
              "      <td>1.0</td>\n",
              "      <td>0.0</td>\n",
              "      <td>71.2833</td>\n",
              "      <td>1</td>\n",
              "      <td>1</td>\n",
              "      <td>0</td>\n",
              "    </tr>\n",
              "    <tr>\n",
              "      <th>3</th>\n",
              "      <td>1.0</td>\n",
              "      <td>3.0</td>\n",
              "      <td>26.0</td>\n",
              "      <td>0.0</td>\n",
              "      <td>0.0</td>\n",
              "      <td>7.9250</td>\n",
              "      <td>1</td>\n",
              "      <td>0</td>\n",
              "      <td>0</td>\n",
              "    </tr>\n",
              "  </tbody>\n",
              "</table>\n",
              "</div>"
            ],
            "text/plain": [
              "             Survived  Pclass   Age  SibSp  Parch     Fare  female  C  Q\n",
              "PassengerId                                                             \n",
              "1                 0.0     3.0  22.0    1.0    0.0   7.2500       0  0  0\n",
              "2                 1.0     1.0  38.0    1.0    0.0  71.2833       1  1  0\n",
              "3                 1.0     3.0  26.0    0.0    0.0   7.9250       1  0  0"
            ]
          },
          "metadata": {},
          "execution_count": 9
        }
      ]
    },
    {
      "cell_type": "code",
      "metadata": {
        "colab": {
          "base_uri": "https://localhost:8080/"
        },
        "id": "dUYicCiM607r",
        "outputId": "c9a6e93f-10f7-4fc8-cd20-85950331066e"
      },
      "source": [
        "df.info()\n"
      ],
      "execution_count": 10,
      "outputs": [
        {
          "output_type": "stream",
          "name": "stdout",
          "text": [
            "<class 'pandas.core.frame.DataFrame'>\n",
            "Int64Index: 891 entries, 1 to 891\n",
            "Data columns (total 9 columns):\n",
            " #   Column    Non-Null Count  Dtype  \n",
            "---  ------    --------------  -----  \n",
            " 0   Survived  891 non-null    float64\n",
            " 1   Pclass    891 non-null    float64\n",
            " 2   Age       891 non-null    float64\n",
            " 3   SibSp     891 non-null    float64\n",
            " 4   Parch     891 non-null    float64\n",
            " 5   Fare      891 non-null    float64\n",
            " 6   female    891 non-null    int64  \n",
            " 7   C         891 non-null    int64  \n",
            " 8   Q         891 non-null    int64  \n",
            "dtypes: float64(6), int64(3)\n",
            "memory usage: 69.6 KB\n"
          ]
        }
      ]
    },
    {
      "cell_type": "markdown",
      "metadata": {
        "id": "_opf1Yq1px4Q"
      },
      "source": [
        "## Sigmoid Funtion\n",
        "$ sigmoid(z) = \\frac{1}{1 + e^{-z}} $"
      ]
    },
    {
      "cell_type": "code",
      "metadata": {
        "colab": {
          "base_uri": "https://localhost:8080/",
          "height": 265
        },
        "id": "EdDjkKYd7gk4",
        "outputId": "4643e35f-bb9f-4db0-e8fe-c507c5ca6113"
      },
      "source": [
        "import math \n",
        "import matplotlib.pyplot as plt\n",
        "\n",
        "def sigmoid(z):\n",
        "    return 1/(1+(math.e**-z))\n",
        "x = np.arange(-10,10,0.1)\n",
        "plt.plot(x,sigmoid(x))\n",
        "plt.grid(True)"
      ],
      "execution_count": 11,
      "outputs": [
        {
          "output_type": "display_data",
          "data": {
            "image/png": "[encoded data removed]",
            "text/plain": [
              "<Figure size 432x288 with 1 Axes>"
            ]
          },
          "metadata": {
            "needs_background": "light"
          }
        }
      ]
    },
    {
      "cell_type": "code",
      "metadata": {
        "id": "wWp13wbgBV5j"
      },
      "source": [
        "df['theta0'] = 1 "
      ],
      "execution_count": 12,
      "outputs": []
    },
    {
      "cell_type": "code",
      "metadata": {
        "colab": {
          "base_uri": "https://localhost:8080/",
          "height": 172
        },
        "id": "73BURfaTCDR4",
        "outputId": "25c9cd45-4567-4895-9a42-df40f9aa636d"
      },
      "source": [
        "df.head(3)"
      ],
      "execution_count": 13,
      "outputs": [
        {
          "output_type": "execute_result",
          "data": {
            "text/html": [
              "<div>\n",
              "<style scoped>\n",
              "    .dataframe tbody tr th:only-of-type {\n",
              "        vertical-align: middle;\n",
              "    }\n",
              "\n",
              "    .dataframe tbody tr th {\n",
              "        vertical-align: top;\n",
              "    }\n",
              "\n",
              "    .dataframe thead th {\n",
              "        text-align: right;\n",
              "    }\n",
              "</style>\n",
              "<table border=\"1\" class=\"dataframe\">\n",
              "  <thead>\n",
              "    <tr style=\"text-align: right;\">\n",
              "      <th></th>\n",
              "      <th>Survived</th>\n",
              "      <th>Pclass</th>\n",
              "      <th>Age</th>\n",
              "      <th>SibSp</th>\n",
              "      <th>Parch</th>\n",
              "      <th>Fare</th>\n",
              "      <th>female</th>\n",
              "      <th>C</th>\n",
              "      <th>Q</th>\n",
              "      <th>theta0</th>\n",
              "    </tr>\n",
              "    <tr>\n",
              "      <th>PassengerId</th>\n",
              "      <th></th>\n",
              "      <th></th>\n",
              "      <th></th>\n",
              "      <th></th>\n",
              "      <th></th>\n",
              "      <th></th>\n",
              "      <th></th>\n",
              "      <th></th>\n",
              "      <th></th>\n",
              "      <th></th>\n",
              "    </tr>\n",
              "  </thead>\n",
              "  <tbody>\n",
              "    <tr>\n",
              "      <th>1</th>\n",
              "      <td>0.0</td>\n",
              "      <td>3.0</td>\n",
              "      <td>22.0</td>\n",
              "      <td>1.0</td>\n",
              "      <td>0.0</td>\n",
              "      <td>7.2500</td>\n",
              "      <td>0</td>\n",
              "      <td>0</td>\n",
              "      <td>0</td>\n",
              "      <td>1</td>\n",
              "    </tr>\n",
              "    <tr>\n",
              "      <th>2</th>\n",
              "      <td>1.0</td>\n",
              "      <td>1.0</td>\n",
              "      <td>38.0</td>\n",
              "      <td>1.0</td>\n",
              "      <td>0.0</td>\n",
              "      <td>71.2833</td>\n",
              "      <td>1</td>\n",
              "      <td>1</td>\n",
              "      <td>0</td>\n",
              "      <td>1</td>\n",
              "    </tr>\n",
              "    <tr>\n",
              "      <th>3</th>\n",
              "      <td>1.0</td>\n",
              "      <td>3.0</td>\n",
              "      <td>26.0</td>\n",
              "      <td>0.0</td>\n",
              "      <td>0.0</td>\n",
              "      <td>7.9250</td>\n",
              "      <td>1</td>\n",
              "      <td>0</td>\n",
              "      <td>0</td>\n",
              "      <td>1</td>\n",
              "    </tr>\n",
              "  </tbody>\n",
              "</table>\n",
              "</div>"
            ],
            "text/plain": [
              "             Survived  Pclass   Age  SibSp  ...  female  C  Q  theta0\n",
              "PassengerId                                 ...                      \n",
              "1                 0.0     3.0  22.0    1.0  ...       0  0  0       1\n",
              "2                 1.0     1.0  38.0    1.0  ...       1  1  0       1\n",
              "3                 1.0     3.0  26.0    0.0  ...       1  0  0       1\n",
              "\n",
              "[3 rows x 10 columns]"
            ]
          },
          "metadata": {},
          "execution_count": 13
        }
      ]
    },
    {
      "cell_type": "code",
      "metadata": {
        "id": "ByVOoGi_F9z9"
      },
      "source": [
        "# df['Fare'] = (df['Fare'] - df['Fare'].mean())/df['Fare'].std()\n",
        "# df['Age'] = (df['Age'] - df['Age'].mean())/df['Age'].std()    doesnt work"
      ],
      "execution_count": 14,
      "outputs": []
    },
    {
      "cell_type": "markdown",
      "metadata": {
        "id": "zK6PmOiPqTxc"
      },
      "source": [
        "### Scaling data"
      ]
    },
    {
      "cell_type": "code",
      "metadata": {
        "id": "J7loRF_GHV_k"
      },
      "source": [
        "df['Fare'] = df['Fare']/df['Fare'].mean()\n",
        "df['Age'] = df['Age']/df['Age'].mean()"
      ],
      "execution_count": 15,
      "outputs": []
    },
    {
      "cell_type": "code",
      "metadata": {
        "colab": {
          "base_uri": "https://localhost:8080/",
          "height": 449
        },
        "id": "rlaklbhtGfas",
        "outputId": "e3956634-e6a4-4caf-92cc-27237e1e7494"
      },
      "source": [
        "df"
      ],
      "execution_count": 16,
      "outputs": [
        {
          "output_type": "execute_result",
          "data": {
            "text/html": [
              "<div>\n",
              "<style scoped>\n",
              "    .dataframe tbody tr th:only-of-type {\n",
              "        vertical-align: middle;\n",
              "    }\n",
              "\n",
              "    .dataframe tbody tr th {\n",
              "        vertical-align: top;\n",
              "    }\n",
              "\n",
              "    .dataframe thead th {\n",
              "        text-align: right;\n",
              "    }\n",
              "</style>\n",
              "<table border=\"1\" class=\"dataframe\">\n",
              "  <thead>\n",
              "    <tr style=\"text-align: right;\">\n",
              "      <th></th>\n",
              "      <th>Survived</th>\n",
              "      <th>Pclass</th>\n",
              "      <th>Age</th>\n",
              "      <th>SibSp</th>\n",
              "      <th>Parch</th>\n",
              "      <th>Fare</th>\n",
              "      <th>female</th>\n",
              "      <th>C</th>\n",
              "      <th>Q</th>\n",
              "      <th>theta0</th>\n",
              "    </tr>\n",
              "    <tr>\n",
              "      <th>PassengerId</th>\n",
              "      <th></th>\n",
              "      <th></th>\n",
              "      <th></th>\n",
              "      <th></th>\n",
              "      <th></th>\n",
              "      <th></th>\n",
              "      <th></th>\n",
              "      <th></th>\n",
              "      <th></th>\n",
              "      <th></th>\n",
              "    </tr>\n",
              "  </thead>\n",
              "  <tbody>\n",
              "    <tr>\n",
              "      <th>1</th>\n",
              "      <td>0.0</td>\n",
              "      <td>3.0</td>\n",
              "      <td>0.741345</td>\n",
              "      <td>1.0</td>\n",
              "      <td>0.0</td>\n",
              "      <td>0.225126</td>\n",
              "      <td>0</td>\n",
              "      <td>0</td>\n",
              "      <td>0</td>\n",
              "      <td>1</td>\n",
              "    </tr>\n",
              "    <tr>\n",
              "      <th>2</th>\n",
              "      <td>1.0</td>\n",
              "      <td>1.0</td>\n",
              "      <td>1.280505</td>\n",
              "      <td>1.0</td>\n",
              "      <td>0.0</td>\n",
              "      <td>2.213478</td>\n",
              "      <td>1</td>\n",
              "      <td>1</td>\n",
              "      <td>0</td>\n",
              "      <td>1</td>\n",
              "    </tr>\n",
              "    <tr>\n",
              "      <th>3</th>\n",
              "      <td>1.0</td>\n",
              "      <td>3.0</td>\n",
              "      <td>0.876135</td>\n",
              "      <td>0.0</td>\n",
              "      <td>0.0</td>\n",
              "      <td>0.246086</td>\n",
              "      <td>1</td>\n",
              "      <td>0</td>\n",
              "      <td>0</td>\n",
              "      <td>1</td>\n",
              "    </tr>\n",
              "    <tr>\n",
              "      <th>4</th>\n",
              "      <td>1.0</td>\n",
              "      <td>1.0</td>\n",
              "      <td>1.179412</td>\n",
              "      <td>1.0</td>\n",
              "      <td>0.0</td>\n",
              "      <td>1.648853</td>\n",
              "      <td>1</td>\n",
              "      <td>0</td>\n",
              "      <td>0</td>\n",
              "      <td>1</td>\n",
              "    </tr>\n",
              "    <tr>\n",
              "      <th>5</th>\n",
              "      <td>0.0</td>\n",
              "      <td>3.0</td>\n",
              "      <td>1.179412</td>\n",
              "      <td>0.0</td>\n",
              "      <td>0.0</td>\n",
              "      <td>0.249967</td>\n",
              "      <td>0</td>\n",
              "      <td>0</td>\n",
              "      <td>0</td>\n",
              "      <td>1</td>\n",
              "    </tr>\n",
              "    <tr>\n",
              "      <th>...</th>\n",
              "      <td>...</td>\n",
              "      <td>...</td>\n",
              "      <td>...</td>\n",
              "      <td>...</td>\n",
              "      <td>...</td>\n",
              "      <td>...</td>\n",
              "      <td>...</td>\n",
              "      <td>...</td>\n",
              "      <td>...</td>\n",
              "      <td>...</td>\n",
              "    </tr>\n",
              "    <tr>\n",
              "      <th>887</th>\n",
              "      <td>0.0</td>\n",
              "      <td>2.0</td>\n",
              "      <td>0.909832</td>\n",
              "      <td>0.0</td>\n",
              "      <td>0.0</td>\n",
              "      <td>0.403674</td>\n",
              "      <td>0</td>\n",
              "      <td>0</td>\n",
              "      <td>0</td>\n",
              "      <td>1</td>\n",
              "    </tr>\n",
              "    <tr>\n",
              "      <th>888</th>\n",
              "      <td>1.0</td>\n",
              "      <td>1.0</td>\n",
              "      <td>0.640252</td>\n",
              "      <td>0.0</td>\n",
              "      <td>0.0</td>\n",
              "      <td>0.931555</td>\n",
              "      <td>1</td>\n",
              "      <td>0</td>\n",
              "      <td>0</td>\n",
              "      <td>1</td>\n",
              "    </tr>\n",
              "    <tr>\n",
              "      <th>889</th>\n",
              "      <td>0.0</td>\n",
              "      <td>3.0</td>\n",
              "      <td>1.000000</td>\n",
              "      <td>1.0</td>\n",
              "      <td>2.0</td>\n",
              "      <td>0.728166</td>\n",
              "      <td>1</td>\n",
              "      <td>0</td>\n",
              "      <td>0</td>\n",
              "      <td>1</td>\n",
              "    </tr>\n",
              "    <tr>\n",
              "      <th>890</th>\n",
              "      <td>1.0</td>\n",
              "      <td>1.0</td>\n",
              "      <td>0.876135</td>\n",
              "      <td>0.0</td>\n",
              "      <td>0.0</td>\n",
              "      <td>0.931555</td>\n",
              "      <td>0</td>\n",
              "      <td>1</td>\n",
              "      <td>0</td>\n",
              "      <td>1</td>\n",
              "    </tr>\n",
              "    <tr>\n",
              "      <th>891</th>\n",
              "      <td>0.0</td>\n",
              "      <td>3.0</td>\n",
              "      <td>1.078320</td>\n",
              "      <td>0.0</td>\n",
              "      <td>0.0</td>\n",
              "      <td>0.240652</td>\n",
              "      <td>0</td>\n",
              "      <td>0</td>\n",
              "      <td>1</td>\n",
              "      <td>1</td>\n",
              "    </tr>\n",
              "  </tbody>\n",
              "</table>\n",
              "<p>891 rows × 10 columns</p>\n",
              "</div>"
            ],
            "text/plain": [
              "             Survived  Pclass       Age  SibSp  ...  female  C  Q  theta0\n",
              "PassengerId                                     ...                      \n",
              "1                 0.0     3.0  0.741345    1.0  ...       0  0  0       1\n",
              "2                 1.0     1.0  1.280505    1.0  ...       1  1  0       1\n",
              "3                 1.0     3.0  0.876135    0.0  ...       1  0  0       1\n",
              "4                 1.0     1.0  1.179412    1.0  ...       1  0  0       1\n",
              "5                 0.0     3.0  1.179412    0.0  ...       0  0  0       1\n",
              "...               ...     ...       ...    ...  ...     ... .. ..     ...\n",
              "887               0.0     2.0  0.909832    0.0  ...       0  0  0       1\n",
              "888               1.0     1.0  0.640252    0.0  ...       1  0  0       1\n",
              "889               0.0     3.0  1.000000    1.0  ...       1  0  0       1\n",
              "890               1.0     1.0  0.876135    0.0  ...       0  1  0       1\n",
              "891               0.0     3.0  1.078320    0.0  ...       0  0  1       1\n",
              "\n",
              "[891 rows x 10 columns]"
            ]
          },
          "metadata": {},
          "execution_count": 16
        }
      ]
    },
    {
      "cell_type": "code",
      "metadata": {
        "id": "Qb8_OJA6CFBz"
      },
      "source": [
        "X = np.array(df[['theta0','Pclass','Age','Parch','SibSp','female','Fare','C','Q']])\n",
        "y = np.array(df[['Survived']]) "
      ],
      "execution_count": 17,
      "outputs": []
    },
    {
      "cell_type": "code",
      "metadata": {
        "colab": {
          "base_uri": "https://localhost:8080/"
        },
        "id": "-4wEBfsQC8_R",
        "outputId": "7a9d6be1-8866-4b1d-c8e6-7d0de9d18094"
      },
      "source": [
        "print(X.shape,y.shape)\n"
      ],
      "execution_count": 18,
      "outputs": [
        {
          "output_type": "stream",
          "name": "stdout",
          "text": [
            "(891, 9) (891, 1)\n"
          ]
        }
      ]
    },
    {
      "cell_type": "markdown",
      "metadata": {
        "id": "exnv-67yqapQ"
      },
      "source": [
        "## Splitting data into training and validation sets"
      ]
    },
    {
      "cell_type": "code",
      "metadata": {
        "colab": {
          "base_uri": "https://localhost:8080/"
        },
        "id": "eoW1AANHmfUJ",
        "outputId": "199c93af-f1c8-4d4a-e99a-f27e118e8b16"
      },
      "source": [
        "X_val = X[800:]\n",
        "y_val = y[800:]\n",
        "print(X_val.shape, y_val.shape)"
      ],
      "execution_count": 19,
      "outputs": [
        {
          "output_type": "stream",
          "name": "stdout",
          "text": [
            "(91, 9) (91, 1)\n"
          ]
        }
      ]
    },
    {
      "cell_type": "code",
      "metadata": {
        "colab": {
          "base_uri": "https://localhost:8080/"
        },
        "id": "Vb44tUGzm4PB",
        "outputId": "cd1164d0-c397-4035-98bb-584dd12c00e1"
      },
      "source": [
        "X = X[:800]\n",
        "y = y[:800]\n",
        "print(X.shape, y.shape)"
      ],
      "execution_count": 20,
      "outputs": [
        {
          "output_type": "stream",
          "name": "stdout",
          "text": [
            "(800, 9) (800, 1)\n"
          ]
        }
      ]
    },
    {
      "cell_type": "markdown",
      "metadata": {
        "id": "J3eLg7ROqksc"
      },
      "source": [
        "## Hypothesis Function\n",
        "$ h_{θ}(x) = g(θ^T,X) $\n"
      ]
    },
    {
      "cell_type": "code",
      "metadata": {
        "id": "0SmMJ9CkDBjc"
      },
      "source": [
        "def hyp(theta,X):\n",
        "    return sigmoid(np.dot(X,theta))"
      ],
      "execution_count": 21,
      "outputs": []
    },
    {
      "cell_type": "markdown",
      "metadata": {
        "id": "6bs2vxEpq40z"
      },
      "source": [
        "### Intial theta values "
      ]
    },
    {
      "cell_type": "code",
      "metadata": {
        "colab": {
          "base_uri": "https://localhost:8080/"
        },
        "id": "H8OoQHzODGbr",
        "outputId": "59223c06-6fc5-4673-b8f6-9d17e4a2fb61"
      },
      "source": [
        "intial_theta = np.zeros([9,1])\n",
        "intial_theta.shape"
      ],
      "execution_count": 22,
      "outputs": [
        {
          "output_type": "execute_result",
          "data": {
            "text/plain": [
              "(9, 1)"
            ]
          },
          "metadata": {},
          "execution_count": 22
        }
      ]
    },
    {
      "cell_type": "code",
      "metadata": {
        "colab": {
          "base_uri": "https://localhost:8080/"
        },
        "id": "-KypaY-TYxpp",
        "outputId": "df4d45dc-1f41-478f-e771-b07aca2f2c26"
      },
      "source": [
        "hyp(intial_theta, X).shape"
      ],
      "execution_count": 23,
      "outputs": [
        {
          "output_type": "execute_result",
          "data": {
            "text/plain": [
              "(800, 1)"
            ]
          },
          "metadata": {},
          "execution_count": 23
        }
      ]
    },
    {
      "cell_type": "markdown",
      "metadata": {
        "id": "PWSg3kGVrCJ7"
      },
      "source": [
        "## Cost Function \n",
        "Cost function with ridge regularization \n",
        "![image.png](data:image/png;base64,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)"
      ]
    },
    {
      "cell_type": "code",
      "metadata": {
        "colab": {
          "base_uri": "https://localhost:8080/"
        },
        "id": "4oEGzIOXDLSV",
        "outputId": "04e25233-8aef-4613-9beb-ea494b413a02"
      },
      "source": [
        "m = 800 #number of data points\n",
        "def cost_function(theta,X_h,y_h,l = 0):\n",
        "    fp =  np.dot(y_h.T,np.log(hyp(theta,X_h)))\n",
        "    sp =   np.dot((1 - y_h).T,np.log(1 - hyp(theta,X_h)))\n",
        "    return float(-np.sum(fp+sp)/m) + float(l*np.dot(theta.T, theta)/(2*m))\n",
        "    \n",
        "cost_function(intial_theta,X,y,1)"
      ],
      "execution_count": 24,
      "outputs": [
        {
          "output_type": "execute_result",
          "data": {
            "text/plain": [
              "0.6931471805599451"
            ]
          },
          "metadata": {},
          "execution_count": 24
        }
      ]
    },
    {
      "cell_type": "markdown",
      "metadata": {
        "id": "DjV01H5LrWRk"
      },
      "source": [
        "## Gradient Descent\n",
        "![image.png](data:image/png;base64,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)"
      ]
    },
    {
      "cell_type": "code",
      "metadata": {
        "colab": {
          "base_uri": "https://localhost:8080/"
        },
        "id": "WU6kO97uDSHX",
        "outputId": "b57fd09d-216a-41e4-816b-c202eca0e9c3"
      },
      "source": [
        "alpha = 0.5\n",
        "theta_v = intial_theta\n",
        "epochs = 600\n",
        "cost_func_graph = []\n",
        "l = 1\n",
        "\n",
        "for i in range(epochs):\n",
        "    theta_v = theta_v - alpha*np.dot(hyp(theta_v,X).T - y.T ,X ).T/m - l*theta_v/m\n",
        "    cost_func_graph.append(cost_function(theta_v,X,y))\n",
        "    if i%100==0:\n",
        "      print(f'epoch : {i}  , loss : {cost_func_graph[-1]}')"
      ],
      "execution_count": 32,
      "outputs": [
        {
          "output_type": "stream",
          "name": "stdout",
          "text": [
            "epoch : 0  , loss : 0.630009109351616\n",
            "epoch : 100  , loss : 0.4567835293099756\n",
            "epoch : 200  , loss : 0.45063873806308336\n",
            "epoch : 300  , loss : 0.4488254101823441\n",
            "epoch : 400  , loss : 0.4478571348408545\n",
            "epoch : 500  , loss : 0.44725618970628006\n"
          ]
        }
      ]
    },
    {
      "cell_type": "code",
      "metadata": {
        "colab": {
          "base_uri": "https://localhost:8080/"
        },
        "id": "mdE8Wvo6ZP3n",
        "outputId": "1289245a-1824-49cc-c62f-c109518777ec"
      },
      "source": [
        "(hyp(intial_theta,X).T - y.T).shape "
      ],
      "execution_count": 33,
      "outputs": [
        {
          "output_type": "execute_result",
          "data": {
            "text/plain": [
              "(1, 800)"
            ]
          },
          "metadata": {},
          "execution_count": 33
        }
      ]
    },
    {
      "cell_type": "code",
      "metadata": {
        "colab": {
          "base_uri": "https://localhost:8080/",
          "height": 404
        },
        "id": "VZiwo278Dl7q",
        "outputId": "695950ab-dc9d-4759-b5c1-e7b75487c8f6"
      },
      "source": [
        "plt.figure(figsize=(10,6))\n",
        "plt.plot([i for i in range(epochs)],cost_func_graph) \n",
        "plt.xlabel(\"Epochs\")\n",
        "plt.ylabel(\"J ( $\\theta $ )   |   Cost Function\")\n",
        "plt.title('Cost Function vs epochs')\n",
        "plt.grid(True)"
      ],
      "execution_count": 37,
      "outputs": [
        {
          "output_type": "display_data",
          "data": {
            "image/png": "[encoded data removed]",
            "text/plain": [
              "<Figure size 720x432 with 1 Axes>"
            ]
          },
          "metadata": {
            "needs_background": "light"
          }
        }
      ]
    },
    {
      "cell_type": "code",
      "metadata": {
        "colab": {
          "base_uri": "https://localhost:8080/"
        },
        "id": "WkVqwUM4iepV",
        "outputId": "415ca2e3-b8c2-4abe-a162-104ae261334b"
      },
      "source": [
        "predictions = hyp(theta_v,X_val)\n",
        "corr = 0\n",
        "total = 0\n",
        "for p, l in zip(predictions, y_val):\n",
        "  p_now = 0\n",
        "  if p>=0.5:\n",
        "    p_now = 1\n",
        "  if p_now==l:\n",
        "    corr +=1\n",
        "  total+=1\n",
        "\n",
        "print(f'Accuracy : {corr*100/total :.3f}')"
      ],
      "execution_count": 35,
      "outputs": [
        {
          "output_type": "stream",
          "name": "stdout",
          "text": [
            "Accuracy : 81.319\n"
          ]
        }
      ]
    },
    {
      "cell_type": "code",
      "metadata": {
        "id": "-218loaLs0-z"
      },
      "source": [
        ""
      ],
      "execution_count": null,
      "outputs": []
    }
  ]
}