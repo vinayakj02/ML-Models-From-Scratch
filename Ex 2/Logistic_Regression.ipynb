{
 "cells": [
  {
   "cell_type": "code",
   "execution_count": 243,
   "metadata": {},
   "outputs": [
    {
     "data": {
      "text/html": [
       "<div>\n",
       "<style scoped>\n",
       "    .dataframe tbody tr th:only-of-type {\n",
       "        vertical-align: middle;\n",
       "    }\n",
       "\n",
       "    .dataframe tbody tr th {\n",
       "        vertical-align: top;\n",
       "    }\n",
       "\n",
       "    .dataframe thead th {\n",
       "        text-align: right;\n",
       "    }\n",
       "</style>\n",
       "<table border=\"1\" class=\"dataframe\">\n",
       "  <thead>\n",
       "    <tr style=\"text-align: right;\">\n",
       "      <th></th>\n",
       "      <th>Exam_1</th>\n",
       "      <th>Exam_2</th>\n",
       "      <th>Admitted</th>\n",
       "    </tr>\n",
       "  </thead>\n",
       "  <tbody>\n",
       "    <tr>\n",
       "      <th>0</th>\n",
       "      <td>34.623660</td>\n",
       "      <td>78.024693</td>\n",
       "      <td>0</td>\n",
       "    </tr>\n",
       "    <tr>\n",
       "      <th>1</th>\n",
       "      <td>30.286711</td>\n",
       "      <td>43.894998</td>\n",
       "      <td>0</td>\n",
       "    </tr>\n",
       "    <tr>\n",
       "      <th>2</th>\n",
       "      <td>35.847409</td>\n",
       "      <td>72.902198</td>\n",
       "      <td>0</td>\n",
       "    </tr>\n",
       "  </tbody>\n",
       "</table>\n",
       "</div>"
      ],
      "text/plain": [
       "      Exam_1     Exam_2  Admitted\n",
       "0  34.623660  78.024693         0\n",
       "1  30.286711  43.894998         0\n",
       "2  35.847409  72.902198         0"
      ]
     },
     "execution_count": 243,
     "metadata": {},
     "output_type": "execute_result"
    }
   ],
   "source": [
    "import pandas as pd \n",
    "import numpy as np \n",
    "import matplotlib.pyplot as plt \n",
    "import math\n",
    "\n",
    "df = pd.read_csv(\"ex2data1.txt\",delimiter=\",\")\n",
    "df.head(3) "
   ]
  },
  {
   "cell_type": "code",
   "execution_count": 244,
   "metadata": {},
   "outputs": [],
   "source": [
    "Ex_1 = np.array(df['Exam_1'])\n",
    "Ex_2 = np.array(df['Exam_2'])\n",
    "choice = np.array(df['Admitted'])\n",
    "\n",
    "m = len(Ex_1)\n",
    "\n",
    "Adm_ex_1 = []\n",
    "Adm_ex_2 = []\n",
    "n_Adm_ex_1 = []\n",
    "n_Adm_ex_2 = []\n",
    "\n",
    "for i in range(len(Ex_1)):\n",
    "    if choice[i]==1:\n",
    "        Adm_ex_1.append(Ex_1[i])\n",
    "        Adm_ex_2.append(Ex_2[i])\n",
    "    else :\n",
    "        n_Adm_ex_1.append(Ex_1[i])\n",
    "        n_Adm_ex_2.append(Ex_2[i])"
   ]
  },
  {
   "cell_type": "code",
   "execution_count": 245,
   "metadata": {},
   "outputs": [
    {
     "data": {
      "text/plain": [
       "(30.0, 100.0)"
      ]
     },
     "execution_count": 245,
     "metadata": {},
     "output_type": "execute_result"
    },
    {
     "data": {
      "image/png": "[encoded data removed]",
      "text/plain": [
       "<Figure size 720x432 with 1 Axes>"
      ]
     },
     "metadata": {
      "needs_background": "light"
     },
     "output_type": "display_data"
    }
   ],
   "source": [
    "plt.figure(figsize=(10,6))\n",
    "plt.plot(Adm_ex_1,Adm_ex_2,'o',color='green')\n",
    "plt.plot(n_Adm_ex_1,n_Adm_ex_2,'rx',color='red') \n",
    "plt.grid(True)\n",
    "plt.xlabel(\"Exam 1\")  \n",
    "plt.ylabel(\"Exam 2\") \n",
    "plt.xlim([30,100])\n",
    "plt.ylim([30,100]) "
   ]
  },
  {
   "cell_type": "code",
   "execution_count": 246,
   "metadata": {},
   "outputs": [
    {
     "data": {
      "image/png": "[encoded data removed]",
      "text/plain": [
       "<Figure size 432x288 with 1 Axes>"
      ]
     },
     "metadata": {
      "needs_background": "light"
     },
     "output_type": "display_data"
    }
   ],
   "source": [
    "def sigmoid(z):\n",
    "    return 1/(1+(math.e**-z))\n",
    "x = np.arange(-10,10,0.1)\n",
    "plt.plot(x,sigmoid(x))\n",
    "plt.grid(True)"
   ]
  },
  {
   "cell_type": "code",
   "execution_count": 247,
   "metadata": {},
   "outputs": [
    {
     "data": {
      "text/html": [
       "<div>\n",
       "<style scoped>\n",
       "    .dataframe tbody tr th:only-of-type {\n",
       "        vertical-align: middle;\n",
       "    }\n",
       "\n",
       "    .dataframe tbody tr th {\n",
       "        vertical-align: top;\n",
       "    }\n",
       "\n",
       "    .dataframe thead th {\n",
       "        text-align: right;\n",
       "    }\n",
       "</style>\n",
       "<table border=\"1\" class=\"dataframe\">\n",
       "  <thead>\n",
       "    <tr style=\"text-align: right;\">\n",
       "      <th></th>\n",
       "      <th>Exam_1</th>\n",
       "      <th>Exam_2</th>\n",
       "      <th>Admitted</th>\n",
       "      <th>theta0</th>\n",
       "    </tr>\n",
       "  </thead>\n",
       "  <tbody>\n",
       "    <tr>\n",
       "      <th>0</th>\n",
       "      <td>34.623660</td>\n",
       "      <td>78.024693</td>\n",
       "      <td>0</td>\n",
       "      <td>1</td>\n",
       "    </tr>\n",
       "    <tr>\n",
       "      <th>1</th>\n",
       "      <td>30.286711</td>\n",
       "      <td>43.894998</td>\n",
       "      <td>0</td>\n",
       "      <td>1</td>\n",
       "    </tr>\n",
       "    <tr>\n",
       "      <th>2</th>\n",
       "      <td>35.847409</td>\n",
       "      <td>72.902198</td>\n",
       "      <td>0</td>\n",
       "      <td>1</td>\n",
       "    </tr>\n",
       "  </tbody>\n",
       "</table>\n",
       "</div>"
      ],
      "text/plain": [
       "      Exam_1     Exam_2  Admitted  theta0\n",
       "0  34.623660  78.024693         0       1\n",
       "1  30.286711  43.894998         0       1\n",
       "2  35.847409  72.902198         0       1"
      ]
     },
     "execution_count": 247,
     "metadata": {},
     "output_type": "execute_result"
    }
   ],
   "source": [
    "df['theta0'] = 1\n",
    "df.head(3) "
   ]
  },
  {
   "cell_type": "markdown",
   "metadata": {},
   "source": [
    "### Normalizing the data \n",
    "\n",
    "We normalize this data using mean and standard deviation \n",
    "\n",
    "$ X =  \\frac{X - X_{mean}}{X_{std}}$"
   ]
  },
  {
   "cell_type": "code",
   "execution_count": 248,
   "metadata": {},
   "outputs": [
    {
     "data": {
      "text/html": [
       "<div>\n",
       "<style scoped>\n",
       "    .dataframe tbody tr th:only-of-type {\n",
       "        vertical-align: middle;\n",
       "    }\n",
       "\n",
       "    .dataframe tbody tr th {\n",
       "        vertical-align: top;\n",
       "    }\n",
       "\n",
       "    .dataframe thead th {\n",
       "        text-align: right;\n",
       "    }\n",
       "</style>\n",
       "<table border=\"1\" class=\"dataframe\">\n",
       "  <thead>\n",
       "    <tr style=\"text-align: right;\">\n",
       "      <th></th>\n",
       "      <th>Exam_1</th>\n",
       "      <th>Exam_2</th>\n",
       "      <th>Admitted</th>\n",
       "      <th>theta0</th>\n",
       "    </tr>\n",
       "  </thead>\n",
       "  <tbody>\n",
       "    <tr>\n",
       "      <th>0</th>\n",
       "      <td>0.231025</td>\n",
       "      <td>0.897616</td>\n",
       "      <td>0</td>\n",
       "      <td>1</td>\n",
       "    </tr>\n",
       "    <tr>\n",
       "      <th>1</th>\n",
       "      <td>0.164957</td>\n",
       "      <td>0.382233</td>\n",
       "      <td>0</td>\n",
       "      <td>1</td>\n",
       "    </tr>\n",
       "    <tr>\n",
       "      <th>2</th>\n",
       "      <td>0.249667</td>\n",
       "      <td>0.820262</td>\n",
       "      <td>0</td>\n",
       "      <td>1</td>\n",
       "    </tr>\n",
       "  </tbody>\n",
       "</table>\n",
       "</div>"
      ],
      "text/plain": [
       "     Exam_1    Exam_2  Admitted  theta0\n",
       "0  0.231025  0.897616         0       1\n",
       "1  0.164957  0.382233         0       1\n",
       "2  0.249667  0.820262         0       1"
      ]
     },
     "execution_count": 248,
     "metadata": {},
     "output_type": "execute_result"
    }
   ],
   "source": [
    "df['Exam_1'] = (df['Exam_1'] - df['Exam_1'].std()) / df['Exam_1'].mean()\n",
    "df['Exam_2'] = (df['Exam_2'] - df['Exam_2'].std()) / df['Exam_2'].mean()\n",
    "df.head(3) "
   ]
  },
  {
   "cell_type": "code",
   "execution_count": 249,
   "metadata": {},
   "outputs": [
    {
     "name": "stdout",
     "output_type": "stream",
     "text": [
      "(100, 3) (100, 1)\n"
     ]
    }
   ],
   "source": [
    "X = np.array(df[['theta0','Exam_1','Exam_2']])\n",
    "y = np.array(df[['Admitted']])\n",
    "print(X.shape,y.shape) "
   ]
  },
  {
   "cell_type": "code",
   "execution_count": 250,
   "metadata": {},
   "outputs": [],
   "source": [
    "def hyp(theta,X):\n",
    "    return sigmoid(np.dot(X,theta))"
   ]
  },
  {
   "cell_type": "code",
   "execution_count": 251,
   "metadata": {},
   "outputs": [
    {
     "data": {
      "text/plain": [
       "(3, 1)"
      ]
     },
     "execution_count": 251,
     "metadata": {},
     "output_type": "execute_result"
    }
   ],
   "source": [
    "intial_theta = np.zeros([3,1])\n",
    "intial_theta.shape "
   ]
  },
  {
   "cell_type": "code",
   "execution_count": 252,
   "metadata": {},
   "outputs": [
    {
     "data": {
      "text/plain": [
       "0.6931471805599452"
      ]
     },
     "execution_count": 252,
     "metadata": {},
     "output_type": "execute_result"
    }
   ],
   "source": [
    "def cost_function(theta,X_h,y_h,mylambda = 0.):\n",
    "    fp =  np.dot(y_h.T,np.log(hyp(theta,X_h)))\n",
    "    sp =   np.dot((1 - y_h).T,np.log(1 - hyp(theta,X_h)))\n",
    "    return float(-np.sum(fp+sp)/m)   \n",
    "    \n",
    "cost_function(intial_theta,X,y)"
   ]
  },
  {
   "cell_type": "markdown",
   "metadata": {},
   "source": [
    "### Gradient descent"
   ]
  },
  {
   "cell_type": "code",
   "execution_count": 253,
   "metadata": {},
   "outputs": [],
   "source": [
    "alpha = 1\n",
    "theta_v = intial_theta\n",
    "epochs = 15000\n",
    "cost_func_graph = []\n",
    "\n",
    "for i in range(epochs):\n",
    "    theta_v = theta_v - alpha*np.dot(hyp(theta_v,X).T - y.T ,X ).T/m\n",
    "    cost_func_graph.append(cost_function(theta_v,X,y))"
   ]
  },
  {
   "cell_type": "code",
   "execution_count": 260,
   "metadata": {},
   "outputs": [
    {
     "name": "stdout",
     "output_type": "stream",
     "text": [
      "[[-17.32553411]\n",
      " [ 13.47810027]\n",
      " [ 13.28063962]] 0.20349963963122003\n"
     ]
    },
    {
     "data": {
      "text/plain": [
       "-17.325534108889862"
      ]
     },
     "execution_count": 260,
     "metadata": {},
     "output_type": "execute_result"
    }
   ],
   "source": [
    "theta = theta_v\n",
    "print(theta_v,cost_function(theta_v,X,y) ) \n",
    "theta[0][0]"
   ]
  },
  {
   "cell_type": "code",
   "execution_count": 261,
   "metadata": {},
   "outputs": [
    {
     "data": {
      "image/png": "[encoded data removed]",
      "text/plain": [
       "<Figure size 720x432 with 1 Axes>"
      ]
     },
     "metadata": {
      "needs_background": "light"
     },
     "output_type": "display_data"
    }
   ],
   "source": [
    "plt.figure(figsize=(10,6))\n",
    "plt.plot([i for i in range(epochs)],cost_func_graph) \n",
    "plt.xlabel(\"Epochs\")\n",
    "plt.ylabel(\"J ( theta )   /   Cost Function\")\n",
    "plt.grid(True)"
   ]
  },
  {
   "cell_type": "code",
   "execution_count": 262,
   "metadata": {},
   "outputs": [
    {
     "name": "stdout",
     "output_type": "stream",
     "text": [
      "Correct : 89   ,   wrong : 11\n",
      "Percentage correct : 89.0%\n"
     ]
    }
   ],
   "source": [
    "cor = 0\n",
    "wro = 0\n",
    "for xj,yj in zip(X,y) :\n",
    "    if(hyp(theta_v,xj)*100 > 50):\n",
    "        if(yj==1):\n",
    "            cor = cor + 1 \n",
    "        else:\n",
    "            wro = wro + 1\n",
    "    else : \n",
    "        if(yj==0):\n",
    "            cor = cor + 1 \n",
    "        else : \n",
    "            wro = wro + 1 \n",
    "print(f\"Correct : {cor}   ,   wrong : {wro}\\nPercentage correct : {cor*100/(cor+wro)}%\")"
   ]
  },
  {
   "cell_type": "markdown",
   "metadata": {},
   "source": [
    "### Problems faced , which I found the answers to \n",
    "\n",
    "https://stackoverflow.com/questions/49315963/doing-andrew-ngs-logistic-regression-execrise-without-fminunc                     \n",
    "\n",
    "The original excersize was to be solved using **fminuc** a *optimization function* , however I wrote the gradient descent part myself. Intially the data wasn't normalized . Because of this the sigmoid() function values were blowing up to infinity. Later after normalzing the data , the values did converge before any **regularization**\n",
    "\n",
    "The solution using fminuc was : \n",
    "\n",
    "```python\n",
    "\n",
    "from scipy import optimize\n",
    "initial_theta = np.zeros((X.shape[1],1))\n",
    "\n",
    "def optimizeTheta(mytheta,myX,myy,mylambda=0.):\n",
    "    result = optimize.fmin(cost_function, x0=mytheta, args=(myX, myy, mylambda), maxiter=400, full_output=True)\n",
    "    return result[0], result[1]\n",
    "\n",
    "theta, mincost = optimizeTheta(initial_theta,X,y)\n",
    "print(theta,mincost)\n",
    "\n",
    "```\n",
    "It gives us the values : \n",
    "```\n",
    "Optimization terminated successfully.\n",
    "Current function value: 0.203498\n",
    "Iterations: 157\n",
    "Function evaluations: 287\n",
    "``` "
   ]
  },
  {
   "cell_type": "markdown",
   "metadata": {},
   "source": [
    "### Results\n",
    "Theta was obtained by fitting a line to normalized data\n",
    "\n",
    "$ X =  \\frac{X - X_{mean}}{X_{std}}$\n"
   ]
  },
  {
   "cell_type": "code",
   "execution_count": 318,
   "metadata": {},
   "outputs": [],
   "source": [
    "Ex_1 = np.array(df['Exam_1'])\n",
    "Ex_2 = np.array(df['Exam_2'])\n",
    "choice = np.array(df['Admitted'])\n",
    "\n",
    "m = len(Ex_1)\n",
    "\n",
    "Adm_ex_1 = []\n",
    "Adm_ex_2 = []\n",
    "n_Adm_ex_1 = []\n",
    "n_Adm_ex_2 = []\n",
    "\n",
    "for i in range(len(Ex_1)):\n",
    "    if choice[i]==1:\n",
    "        Adm_ex_1.append(Ex_1[i])\n",
    "        Adm_ex_2.append(Ex_2[i])\n",
    "    else :\n",
    "        n_Adm_ex_1.append(Ex_1[i])\n",
    "        n_Adm_ex_2.append(Ex_2[i])"
   ]
  },
  {
   "cell_type": "code",
   "execution_count": 346,
   "metadata": {},
   "outputs": [
    {
     "data": {
      "text/plain": [
       "(0.1, 1.3)"
      ]
     },
     "execution_count": 346,
     "metadata": {},
     "output_type": "execute_result"
    },
    {
     "data": {
      "image/png": "[encoded data removed]",
      "text/plain": [
       "<Figure size 720x432 with 1 Axes>"
      ]
     },
     "metadata": {
      "needs_background": "light"
     },
     "output_type": "display_data"
    }
   ],
   "source": [
    "x1r = np.array(range(-1,3)) \n",
    "plt.figure(figsize=(10,6))\n",
    "plt.grid(True)  \n",
    "# plt.plot(df['Exam_1'],df['Exam_2'],'o',color='green')\n",
    "plt.plot(Adm_ex_1,Adm_ex_2,'+',color = 'g' , markersize = 8)   \n",
    "plt.plot(n_Adm_ex_1,n_Adm_ex_2,'rx',color = 'red' , markersize = 8)    \n",
    "plt.plot(x1r, - ( -17.40 + 13.53*x1r)/13.49 , color = 'black')  \n",
    "plt.xlabel(\"Exam 1\")  \n",
    "plt.ylabel(\"Exam 2\") \n",
    "plt.xlim([0.1,1.3])    \n",
    "plt.ylim([0.1,1.3])  "
   ]
  }
 ],
 "metadata": {
  "kernelspec": {
   "display_name": "Python 3",
   "language": "python",
   "name": "python3"
  },
  "language_info": {
   "codemirror_mode": {
    "name": "ipython",
    "version": 3
   },
   "file_extension": ".py",
   "mimetype": "text/x-python",
   "name": "python",
   "nbconvert_exporter": "python",
   "pygments_lexer": "ipython3",
   "version": "3.8.5"
  }
 },
 "nbformat": 4,
 "nbformat_minor": 4
}
